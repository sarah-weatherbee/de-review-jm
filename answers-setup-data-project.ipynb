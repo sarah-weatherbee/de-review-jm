{
 "cells": [
  {
   "cell_type": "markdown",
   "id": "a8f12273-d47e-4093-8c92-f7c0c03bed53",
   "metadata": {},
   "source": [
    "# 1"
   ]
  },
  {
   "cell_type": "markdown",
   "id": "59b22131-8ac0-4222-87db-cd4c6de2110d",
   "metadata": {},
   "source": [
    "**Exercise** what is the relationship between the `orders` table and `customer` table.\n",
    "\n",
    "a. 1 to many\n",
    "\n",
    "b. many to 1\n",
    "\n",
    "c. many to many\n",
    "\n",
    "d. 1 to 1"
   ]
  },
  {
   "cell_type": "code",
   "execution_count": 4,
   "id": "99c2771e-452d-4fef-9d18-733d636f7523",
   "metadata": {},
   "outputs": [],
   "source": [
    "answer = 'd'\n",
    "# Check answer\n",
    "assert answer == 'd'"
   ]
  },
  {
   "cell_type": "markdown",
   "id": "3fe74dd7-5fa5-4dbf-8dcc-76631ca0b453",
   "metadata": {},
   "source": [
    "# 2"
   ]
  },
  {
   "cell_type": "markdown",
   "id": "7390fcad-3d9a-4dc5-9afd-fae240376c81",
   "metadata": {},
   "source": [
    "**Exercise**: what the relationship between the `customer` table and the `orders` table?\n",
    "\n",
    "a. 1 to many\n",
    "\n",
    "b. many to 1\n",
    "\n",
    "c. many to many\n",
    "\n",
    "d. 1 to 1\n"
   ]
  },
  {
   "cell_type": "code",
   "execution_count": 2,
   "id": "2695194a-268b-4812-9b2d-b12d49b91fe4",
   "metadata": {},
   "outputs": [],
   "source": [
    "answer = 'a'\n",
    "# Check answer\n",
    "assert answer == 'a'"
   ]
  },
  {
   "cell_type": "markdown",
   "id": "291c28c0-3dca-48eb-b3eb-799ff091577c",
   "metadata": {},
   "source": [
    "# 3"
   ]
  },
  {
   "cell_type": "markdown",
   "id": "8cd9e88e-34f5-44a6-9178-d85470f76945",
   "metadata": {},
   "source": [
    "**Exercise**: Assume that you have to create a `wide_lineitem` table with all the dimensions at its respective grain. What other tables will you left join with `fct_lineitem` table?\n"
   ]
  },
  {
   "cell_type": "code",
   "execution_count": 4,
   "id": "1f8e6070-3c6d-4993-b0c4-05116cc32f51",
   "metadata": {},
   "outputs": [],
   "source": [
    "tables_to_left_join = ['partsupp', 'part', 'supplier']\n",
    "# answer\n",
    "assert tables_to_left_join == ['partsupp', 'part', 'supplier']"
   ]
  },
  {
   "cell_type": "markdown",
   "id": "34ab7ccb-a514-4612-98fa-625e5fb5e20f",
   "metadata": {},
   "source": [
    "# 4"
   ]
  },
  {
   "cell_type": "markdown",
   "id": "db325f04-c8c7-441f-b58d-d9e34cc26a36",
   "metadata": {},
   "source": [
    "**Exercise:**\n",
    "Write code (similar to above)\n",
    "1. Remove the o_ and l_ from the order and lineitem table's column names\n",
    "2. We also rename customer key and order key to customer_key and order_key respectively"
   ]
  },
  {
   "cell_type": "code",
   "execution_count": 5,
   "id": "6b26f740-d936-4cec-b04f-28b64a3301d8",
   "metadata": {},
   "outputs": [],
   "source": [
    "# Answer\n",
    "# cleaned_orders_df = orders_df.rename(lambda col_name: col_name[2:]).rename({\"custkey\": \"customer_key\", \"orderkey\": \"order_key\"})\n",
    "# cleaned_lineitem_df = lineitem_df.rename(lambda col_name: col_name[2:]).rename({\"orderkey\": \"order_key\"})"
   ]
  },
  {
   "cell_type": "markdown",
   "id": "7465c312-37d3-4289-a705-94367e95ee1a",
   "metadata": {},
   "source": [
    "# 5"
   ]
  },
  {
   "cell_type": "markdown",
   "id": "f0cf1b6e-0706-4cc8-8fed-af9aa36485be",
   "metadata": {},
   "source": [
    "**Exercise:** There is a deliberate mistake in the above cell, what is it?\n",
    "\n",
    "**Hint** Is the code actually doing what it is supposed to do?"
   ]
  },
  {
   "cell_type": "markdown",
   "id": "ce15a660-8d5e-41bd-9aaf-6e99f1ca00c1",
   "metadata": {},
   "source": [
    "**Answer**\n",
    "\n",
    "The code is inserting the `comparison_json` but in reality it should insert the `curr_metric`"
   ]
  },
  {
   "cell_type": "markdown",
   "id": "1c3a3a81-a404-42c8-8f49-f280c155047f",
   "metadata": {},
   "source": [
    "# 6"
   ]
  },
  {
   "cell_type": "markdown",
   "id": "bf7662dd-d540-4f11-bd94-a3030d324248",
   "metadata": {},
   "source": [
    "**Exercise**: How would you improve the `check_variance` method?\n"
   ]
  },
  {
   "cell_type": "markdown",
   "id": "6eaf200b-b68a-47e1-bbaf-2742ce90a243",
   "metadata": {},
   "source": [
    "**Answer**\n",
    "\n",
    "The `check_variance` function does 2 things, calculate current metric and then compares.\n",
    "It would be enable better reusability and separation of code if we\n",
    "\n",
    "1. Change `get_latest_run_metrics` to `get_run_metrics(run_id)`. This way the same function can be used for `prev_metrics` and `curr_metrics` keep implementation (see json conversions) to one place.\n",
    "2. Move out the computation of comparison to a separate `compare_metrics(metric_dict_1, metric_dict_2)` which returns comparison dict.\n",
    "3. Keep the threshold check in `check_variance` function.\n",
    "\n",
    "While this may seem like overkill (especially if these functions are only used in one place), it helps will code maintainability and testing."
   ]
  }
 ],
 "metadata": {
  "kernelspec": {
   "display_name": "Python 3 (ipykernel)",
   "language": "python",
   "name": "python3"
  },
  "language_info": {
   "codemirror_mode": {
    "name": "ipython",
    "version": 3
   },
   "file_extension": ".py",
   "mimetype": "text/x-python",
   "name": "python",
   "nbconvert_exporter": "python",
   "pygments_lexer": "ipython3",
   "version": "3.9.6"
  }
 },
 "nbformat": 4,
 "nbformat_minor": 5
}
